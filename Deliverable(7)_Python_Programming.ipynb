{
  "nbformat": 4,
  "nbformat_minor": 0,
  "metadata": {
    "colab": {
      "provenance": []
    },
    "kernelspec": {
      "name": "python3",
      "display_name": "Python 3"
    },
    "language_info": {
      "name": "python"
    }
  },
  "cells": [
    {
      "cell_type": "code",
      "execution_count": 1,
      "metadata": {
        "colab": {
          "base_uri": "https://localhost:8080/"
        },
        "id": "aQuBP7Qj1t3k",
        "outputId": "bd3d031b-1cc1-4468-f10c-6e8d94b5466a"
      },
      "outputs": [
        {
          "output_type": "stream",
          "name": "stdout",
          "text": [
            "Enter an integer value greater than 0: 4\n",
            "-------------------------------------\n",
            "|     |  Even  |  Odd   | Fibonacci  |\n",
            "-------------------------------------\n",
            "|  0  |   0    |   1    |     0      |\n",
            "-------------------------------------\n",
            "|  1  |   2    |   3    |     1      |\n",
            "-------------------------------------\n",
            "|  2  |   4    |   5    |     1      |\n",
            "-------------------------------------\n",
            "|  3  |   6    |   7    |     2      |\n",
            "-------------------------------------\n"
          ]
        }
      ],
      "source": [
        "n = int(input(\"Enter an integer value greater than 0: \"))\n",
        "\n",
        "even = []\n",
        "odd = []\n",
        "fibonacci = [0,1]\n",
        "\n",
        "if n > 0:\n",
        "\n",
        "    for num in range(2,n+1):\n",
        "        fibonacci.append(fibonacci[num - 1] + fibonacci[num - 2])\n",
        "        \n",
        "    for number in range(n):\n",
        "        even.append(2*number)\n",
        "        odd.append(2*number+1)\n",
        "\n",
        "    print(\"-\"*37)\n",
        "    print(\"|{:^5}|{:^8}|{:^8}|{:^12}|\".format(\"\",\"Even\",\"Odd\",\"Fibonacci\"))\n",
        "    print(\"-\"*37)\n",
        "    \n",
        "    for index in range(n):\n",
        "        print(\"|{:^5}|{:^8}|{:^8}|{:^12}|\".format(index,even[index],odd[index],fibonacci[index]))\n",
        "        print(\"-\"*37)\n",
        "   \n"
      ]
    }
  ]
}